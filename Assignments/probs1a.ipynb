{
 "cells": [
  {
   "cell_type": "markdown",
   "id": "28b94129",
   "metadata": {},
   "source": [
    "# Exercises for day 1a\n",
    "\n",
    "You will be working on a series of exercises for the material covered in lecture 1a. As a reminder, we discussed programming languages and how Python/Jupyter can be used as a powerful calculator.\n",
    "\n",
    "The first set of exercises will focus on how to use Python/Jupyter as a calculator.\n",
    "\n",
    "The following will be useful:\n",
    "- Jupyter consists of a series of cells\n",
    "- Use shift + enter to run a cell\n",
    "- Remember the order of operations!"
   ]
  },
  {
   "cell_type": "markdown",
   "id": "00684df6",
   "metadata": {},
   "source": [
    "## Exercise 1\n",
    "\n",
    "We will start simple. Calculate the following quantities _using Jupyter_, one per cell:\n",
    "- 10 + 20\n",
    "- 72 - 123\n",
    "- 23 * 67\n",
    "- 90 / 30\n",
    "- 90 / 27\n",
    "- 90 // 27\n",
    "\n",
    "Remember to use _shift + enter_ to run cells"
   ]
  },
  {
   "cell_type": "code",
   "execution_count": 1,
   "id": "745ee020",
   "metadata": {},
   "outputs": [
    {
     "data": {
      "text/plain": [
       "30"
      ]
     },
     "execution_count": 1,
     "metadata": {},
     "output_type": "execute_result"
    }
   ],
   "source": [
    "10 + 20"
   ]
  },
  {
   "cell_type": "code",
   "execution_count": 2,
   "id": "6c899107",
   "metadata": {},
   "outputs": [
    {
     "data": {
      "text/plain": [
       "-51"
      ]
     },
     "execution_count": 2,
     "metadata": {},
     "output_type": "execute_result"
    }
   ],
   "source": [
    "72 - 123"
   ]
  },
  {
   "cell_type": "code",
   "execution_count": 3,
   "id": "8921bd24",
   "metadata": {},
   "outputs": [
    {
     "data": {
      "text/plain": [
       "1541"
      ]
     },
     "execution_count": 3,
     "metadata": {},
     "output_type": "execute_result"
    }
   ],
   "source": [
    "23 * 67"
   ]
  },
  {
   "cell_type": "code",
   "execution_count": 4,
   "id": "ef7b43c7",
   "metadata": {},
   "outputs": [
    {
     "data": {
      "text/plain": [
       "3.0"
      ]
     },
     "execution_count": 4,
     "metadata": {},
     "output_type": "execute_result"
    }
   ],
   "source": [
    "90 / 30"
   ]
  },
  {
   "cell_type": "code",
   "execution_count": 6,
   "id": "2a6d9f83",
   "metadata": {},
   "outputs": [
    {
     "data": {
      "text/plain": [
       "3.3333333333333335"
      ]
     },
     "execution_count": 6,
     "metadata": {},
     "output_type": "execute_result"
    }
   ],
   "source": [
    "90/27"
   ]
  },
  {
   "cell_type": "code",
   "execution_count": 7,
   "id": "8d6b8ca1",
   "metadata": {},
   "outputs": [
    {
     "data": {
      "text/plain": [
       "3"
      ]
     },
     "execution_count": 7,
     "metadata": {},
     "output_type": "execute_result"
    }
   ],
   "source": [
    "90//27"
   ]
  },
  {
   "cell_type": "markdown",
   "id": "aa00dcd8",
   "metadata": {},
   "source": [
    "## Exercise 2\n",
    "\n",
    "Now that you're used to simple arithmetic, we'll make things a bit harder. Python/Jupyter executes statements like `1 + 2 * 3` in a specific order. This is called the _order of operations_. \n",
    "\n",
    "The order of operation is very important! They can change the results dramatically.\n",
    "\n",
    "Compute the following quantities by hand. Then, use Jupyter to check if you got the order of operations correct.\n",
    "- 1 + 2 * 3\n",
    "- 1 * 2 + 3\n",
    "- 1 / 2 + 3\n",
    "- 1 - 2 * 3\n",
    "- 1 * 2 - 3\n",
    "\n",
    "Now do the following:\n",
    "- 10 * 23 / 5\n",
    "- (1 + 2) * 3\n",
    "- 1 + (2 * 3)\n",
    "- 12 * 5 / 4\n",
    "- 12 * 5 // 7\n",
    "\n",
    "Remember to use _shift + enter_ to run cells"
   ]
  },
  {
   "cell_type": "code",
   "execution_count": 8,
   "id": "d024d11b",
   "metadata": {},
   "outputs": [
    {
     "data": {
      "text/plain": [
       "7"
      ]
     },
     "execution_count": 8,
     "metadata": {},
     "output_type": "execute_result"
    }
   ],
   "source": [
    "1 + 2 * 3"
   ]
  },
  {
   "cell_type": "code",
   "execution_count": 9,
   "id": "09820525",
   "metadata": {},
   "outputs": [
    {
     "data": {
      "text/plain": [
       "5"
      ]
     },
     "execution_count": 9,
     "metadata": {},
     "output_type": "execute_result"
    }
   ],
   "source": [
    "1 * 2 + 3"
   ]
  },
  {
   "cell_type": "code",
   "execution_count": 10,
   "id": "44cd5e45",
   "metadata": {},
   "outputs": [
    {
     "data": {
      "text/plain": [
       "3.5"
      ]
     },
     "execution_count": 10,
     "metadata": {},
     "output_type": "execute_result"
    }
   ],
   "source": [
    "1 / 2 + 3"
   ]
  },
  {
   "cell_type": "code",
   "execution_count": 11,
   "id": "f287d321",
   "metadata": {},
   "outputs": [
    {
     "data": {
      "text/plain": [
       "-5"
      ]
     },
     "execution_count": 11,
     "metadata": {},
     "output_type": "execute_result"
    }
   ],
   "source": [
    "1 - 2 * 3"
   ]
  },
  {
   "cell_type": "code",
   "execution_count": 12,
   "id": "0326d223",
   "metadata": {},
   "outputs": [
    {
     "data": {
      "text/plain": [
       "-1"
      ]
     },
     "execution_count": 12,
     "metadata": {},
     "output_type": "execute_result"
    }
   ],
   "source": [
    "1 * 2 - 3"
   ]
  },
  {
   "cell_type": "code",
   "execution_count": 13,
   "id": "efe31dee",
   "metadata": {},
   "outputs": [
    {
     "data": {
      "text/plain": [
       "46.0"
      ]
     },
     "execution_count": 13,
     "metadata": {},
     "output_type": "execute_result"
    }
   ],
   "source": [
    "10 * 23 / 5"
   ]
  },
  {
   "cell_type": "code",
   "execution_count": 14,
   "id": "f9389336",
   "metadata": {},
   "outputs": [
    {
     "data": {
      "text/plain": [
       "9"
      ]
     },
     "execution_count": 14,
     "metadata": {},
     "output_type": "execute_result"
    }
   ],
   "source": [
    "(1 + 2) * 3"
   ]
  },
  {
   "cell_type": "code",
   "execution_count": 15,
   "id": "65b9c0d5",
   "metadata": {},
   "outputs": [
    {
     "data": {
      "text/plain": [
       "7"
      ]
     },
     "execution_count": 15,
     "metadata": {},
     "output_type": "execute_result"
    }
   ],
   "source": [
    "1 + ( 2 * 3)"
   ]
  },
  {
   "cell_type": "code",
   "execution_count": 16,
   "id": "bab51787",
   "metadata": {},
   "outputs": [
    {
     "data": {
      "text/plain": [
       "15.0"
      ]
     },
     "execution_count": 16,
     "metadata": {},
     "output_type": "execute_result"
    }
   ],
   "source": [
    "12 * 5 / 4"
   ]
  },
  {
   "cell_type": "code",
   "execution_count": 19,
   "id": "ae96c8a2",
   "metadata": {},
   "outputs": [
    {
     "data": {
      "text/plain": [
       "8"
      ]
     },
     "execution_count": 19,
     "metadata": {},
     "output_type": "execute_result"
    }
   ],
   "source": [
    "12 * 5//7 "
   ]
  },
  {
   "cell_type": "markdown",
   "id": "4c47b7f3",
   "metadata": {},
   "source": [
    "## Exercise 3\n",
    "\n",
    "Beyond addition, subtraction, multiplication, and division, there are other, more complex operations. We will first review exponentiation.\n",
    "\n",
    "The _syntax_ for exponentiation is as `a ** b`. IT IS NOT THE `^`!\n",
    "\n",
    "Compute the following quantities by hand. Then, use Jupyter to check if you got them correct:\n",
    "- 2 ** 2\n",
    "- 2 ** 3\n",
    "- 5 ** 2\n",
    "- 10 ** 5\n",
    "- 25 ** 0.5\n",
    "- 3 ** -1\n",
    "\n",
    "Remember to use _shift + enter_ to run cells"
   ]
  },
  {
   "cell_type": "code",
   "execution_count": 20,
   "id": "365b4aa0",
   "metadata": {},
   "outputs": [
    {
     "data": {
      "text/plain": [
       "4"
      ]
     },
     "execution_count": 20,
     "metadata": {},
     "output_type": "execute_result"
    }
   ],
   "source": [
    "2 ** 2"
   ]
  },
  {
   "cell_type": "code",
   "execution_count": 21,
   "id": "81163fb3",
   "metadata": {},
   "outputs": [
    {
     "data": {
      "text/plain": [
       "8"
      ]
     },
     "execution_count": 21,
     "metadata": {},
     "output_type": "execute_result"
    }
   ],
   "source": [
    "2 ** 3"
   ]
  },
  {
   "cell_type": "code",
   "execution_count": 22,
   "id": "343c3d91",
   "metadata": {},
   "outputs": [
    {
     "data": {
      "text/plain": [
       "25"
      ]
     },
     "execution_count": 22,
     "metadata": {},
     "output_type": "execute_result"
    }
   ],
   "source": [
    "5 ** 2"
   ]
  },
  {
   "cell_type": "code",
   "execution_count": 23,
   "id": "7d9f13c7",
   "metadata": {},
   "outputs": [
    {
     "data": {
      "text/plain": [
       "100000"
      ]
     },
     "execution_count": 23,
     "metadata": {},
     "output_type": "execute_result"
    }
   ],
   "source": [
    "10 ** 5"
   ]
  },
  {
   "cell_type": "code",
   "execution_count": 24,
   "id": "8fa9ffb1",
   "metadata": {},
   "outputs": [
    {
     "data": {
      "text/plain": [
       "5.0"
      ]
     },
     "execution_count": 24,
     "metadata": {},
     "output_type": "execute_result"
    }
   ],
   "source": [
    "25 ** 0.5"
   ]
  },
  {
   "cell_type": "code",
   "execution_count": 25,
   "id": "449529c1",
   "metadata": {},
   "outputs": [
    {
     "data": {
      "text/plain": [
       "0.3333333333333333"
      ]
     },
     "execution_count": 25,
     "metadata": {},
     "output_type": "execute_result"
    }
   ],
   "source": [
    "3 ** -1"
   ]
  },
  {
   "cell_type": "markdown",
   "id": "5f80df8c",
   "metadata": {},
   "source": [
    "## Exercise 4\n",
    "\n",
    "In Python, there are some _invalid operations_. Invalid operations will cause errors. If you see an error, that means that there's a logical issue with your code. These will become increasingly important later in the course to help you debug your code\n",
    "\n",
    "See what happens if you run the following:\n",
    "- 10 / 0\n",
    "- 1 +\n",
    "- 2 * * 4\n",
    "- 3 x 4\n",
    "- 3 a"
   ]
  },
  {
   "cell_type": "code",
   "execution_count": 26,
   "id": "49686bca",
   "metadata": {},
   "outputs": [
    {
     "ename": "ZeroDivisionError",
     "evalue": "division by zero",
     "output_type": "error",
     "traceback": [
      "\u001b[1;31m---------------------------------------------------------------------------\u001b[0m",
      "\u001b[1;31mZeroDivisionError\u001b[0m                         Traceback (most recent call last)",
      "Cell \u001b[1;32mIn[26], line 1\u001b[0m\n\u001b[1;32m----> 1\u001b[0m \u001b[39m10\u001b[39;49m \u001b[39m/\u001b[39;49m \u001b[39m0\u001b[39;49m\n",
      "\u001b[1;31mZeroDivisionError\u001b[0m: division by zero"
     ]
    }
   ],
   "source": [
    "10 / 0"
   ]
  },
  {
   "cell_type": "code",
   "execution_count": 27,
   "id": "7336a580",
   "metadata": {},
   "outputs": [
    {
     "ename": "SyntaxError",
     "evalue": "invalid syntax (3547622060.py, line 1)",
     "output_type": "error",
     "traceback": [
      "\u001b[1;36m  Cell \u001b[1;32mIn[27], line 1\u001b[1;36m\u001b[0m\n\u001b[1;33m    1 +\u001b[0m\n\u001b[1;37m        ^\u001b[0m\n\u001b[1;31mSyntaxError\u001b[0m\u001b[1;31m:\u001b[0m invalid syntax\n"
     ]
    }
   ],
   "source": [
    "1 +"
   ]
  },
  {
   "cell_type": "code",
   "execution_count": 28,
   "id": "f9a14860",
   "metadata": {},
   "outputs": [
    {
     "data": {
      "text/plain": [
       "16"
      ]
     },
     "execution_count": 28,
     "metadata": {},
     "output_type": "execute_result"
    }
   ],
   "source": [
    "2 ** 4"
   ]
  },
  {
   "cell_type": "code",
   "execution_count": 29,
   "id": "e78019b7",
   "metadata": {},
   "outputs": [
    {
     "ename": "SyntaxError",
     "evalue": "invalid syntax (2815966822.py, line 1)",
     "output_type": "error",
     "traceback": [
      "\u001b[1;36m  Cell \u001b[1;32mIn[29], line 1\u001b[1;36m\u001b[0m\n\u001b[1;33m    3 x 4\u001b[0m\n\u001b[1;37m      ^\u001b[0m\n\u001b[1;31mSyntaxError\u001b[0m\u001b[1;31m:\u001b[0m invalid syntax\n"
     ]
    }
   ],
   "source": [
    "3 x 4"
   ]
  },
  {
   "cell_type": "code",
   "execution_count": 30,
   "id": "522c3446",
   "metadata": {},
   "outputs": [
    {
     "ename": "SyntaxError",
     "evalue": "invalid syntax (4252939632.py, line 1)",
     "output_type": "error",
     "traceback": [
      "\u001b[1;36m  Cell \u001b[1;32mIn[30], line 1\u001b[1;36m\u001b[0m\n\u001b[1;33m    3 a\u001b[0m\n\u001b[1;37m      ^\u001b[0m\n\u001b[1;31mSyntaxError\u001b[0m\u001b[1;31m:\u001b[0m invalid syntax\n"
     ]
    }
   ],
   "source": [
    "3 a"
   ]
  },
  {
   "cell_type": "markdown",
   "id": "a4192ca6",
   "metadata": {},
   "source": [
    "## Exercise 5\n",
    "\n",
    "Now that we've gone over the basic arithmetic operations, let's use them in interesting ways.\n",
    "\n",
    "Let's say we have a mathematical function $f(x) = x^3 + 2 x^2 + 3 x + 4$. (Important note: we will see later in the course that _programming function_ are **NOT THE SAME** as _mathematical functions_. You don't need to worry about this for now, but keep this in mind).\n",
    "\n",
    "Using Jupyter, compute $f(5)$. Expand the computation so that $x$ is replaced by 5 and you do all of the arithmetic operatoins.\n",
    "\n",
    "Do the same for $f(10)$.\n",
    "\n",
    "You might notice that this process of substituting the variables is quite annoying. We will revisit this in future lectures."
   ]
  },
  {
   "cell_type": "code",
   "execution_count": 31,
   "id": "fab84ac4",
   "metadata": {},
   "outputs": [
    {
     "data": {
      "text/plain": [
       "194"
      ]
     },
     "execution_count": 31,
     "metadata": {},
     "output_type": "execute_result"
    }
   ],
   "source": [
    "5 ** 3 + 2 * (5 ** 2) + 3 * 5 + 4"
   ]
  },
  {
   "cell_type": "code",
   "execution_count": 32,
   "id": "19c29fc3-32ec-4399-83bd-9d0e8d897884",
   "metadata": {},
   "outputs": [
    {
     "data": {
      "text/plain": [
       "1234"
      ]
     },
     "execution_count": 32,
     "metadata": {},
     "output_type": "execute_result"
    }
   ],
   "source": [
    "10 ** 3 + 2 * 10 ** 2 + 3 * 10 + 4"
   ]
  },
  {
   "cell_type": "markdown",
   "id": "82c99eb8",
   "metadata": {},
   "source": [
    "## Exercise 6\n",
    "\n",
    "Use this space to compute free-form arithmetic operations. What are the most interesting things you can compute? If you're willing, bring some to share to class.\n",
    "\n",
    "Remember to use _shift + enter_ to run the cells."
   ]
  },
  {
   "cell_type": "code",
   "execution_count": 33,
   "id": "54acca50",
   "metadata": {},
   "outputs": [
    {
     "data": {
      "text/plain": [
       "25"
      ]
     },
     "execution_count": 33,
     "metadata": {},
     "output_type": "execute_result"
    }
   ],
   "source": [
    "5 * (2) ** 2 + 2 * 2 + 1"
   ]
  },
  {
   "cell_type": "markdown",
   "id": "84a2e287",
   "metadata": {},
   "source": [
    "## Exercise 7 (medium)\n",
    "\n",
    "We will now review the modulus operation. The syntax for modulus is `a % b`\n",
    " \n",
    "Compute the following quantities by hand. Then, use Jupyter to check if you got them correct:\n",
    "- 1 % 2\n",
    "- 10 % 2\n",
    "- 10 % 5\n",
    "- 67 % 3\n",
    "\n",
    "Remember to use _shift + enter_ to run cells"
   ]
  },
  {
   "cell_type": "code",
   "execution_count": 34,
   "id": "3eb58913",
   "metadata": {},
   "outputs": [
    {
     "data": {
      "text/plain": [
       "1"
      ]
     },
     "execution_count": 34,
     "metadata": {},
     "output_type": "execute_result"
    }
   ],
   "source": [
    "1 % 2 "
   ]
  },
  {
   "cell_type": "code",
   "execution_count": 35,
   "id": "765e4441",
   "metadata": {},
   "outputs": [
    {
     "data": {
      "text/plain": [
       "0"
      ]
     },
     "execution_count": 35,
     "metadata": {},
     "output_type": "execute_result"
    }
   ],
   "source": [
    "10  % 2"
   ]
  },
  {
   "cell_type": "code",
   "execution_count": 36,
   "id": "c1a5992a",
   "metadata": {},
   "outputs": [
    {
     "data": {
      "text/plain": [
       "0"
      ]
     },
     "execution_count": 36,
     "metadata": {},
     "output_type": "execute_result"
    }
   ],
   "source": [
    "10 % 5"
   ]
  },
  {
   "cell_type": "code",
   "execution_count": 37,
   "id": "d05cb70b",
   "metadata": {},
   "outputs": [
    {
     "data": {
      "text/plain": [
       "1"
      ]
     },
     "execution_count": 37,
     "metadata": {},
     "output_type": "execute_result"
    }
   ],
   "source": [
    "67 % 3"
   ]
  },
  {
   "cell_type": "markdown",
   "id": "41f46d53",
   "metadata": {},
   "source": [
    "## Exercise 8 (Hard)\n",
    "\n",
    "For this exercise, using _only the operations we discussed in class_, do the following:\n",
    "- Extract the lowest digit from the number 48756378291\n",
    "- Extract the second lowest digit from the number 48756378291\n",
    "- Extract the third lowest digit from the number 48756378291\n",
    "\n",
    "Do you see a pattern?"
   ]
  },
  {
   "cell_type": "code",
   "execution_count": 38,
   "id": "8970d74f",
   "metadata": {},
   "outputs": [
    {
     "data": {
      "text/plain": [
       "2"
      ]
     },
     "execution_count": 38,
     "metadata": {},
     "output_type": "execute_result"
    }
   ],
   "source": [
    "(48756378291//100)%10\n"
   ]
  },
  {
   "cell_type": "code",
   "execution_count": null,
   "id": "fe78c691",
   "metadata": {},
   "outputs": [],
   "source": []
  },
  {
   "cell_type": "code",
   "execution_count": null,
   "id": "465af57a",
   "metadata": {},
   "outputs": [],
   "source": []
  },
  {
   "cell_type": "markdown",
   "id": "115a5e9e",
   "metadata": {},
   "source": [
    "# Supplementary exercises\n",
    "\n",
    "If you've completed all of the exercises so far, congratulations! There are supplementary exercises you can do now. Ask a TA to get access to them."
   ]
  },
  {
   "cell_type": "code",
   "execution_count": null,
   "id": "18d8a618",
   "metadata": {},
   "outputs": [],
   "source": []
  }
 ],
 "metadata": {
  "kernelspec": {
   "display_name": "Python 3 (ipykernel)",
   "language": "python",
   "name": "python3"
  },
  "language_info": {
   "codemirror_mode": {
    "name": "ipython",
    "version": 3
   },
   "file_extension": ".py",
   "mimetype": "text/x-python",
   "name": "python",
   "nbconvert_exporter": "python",
   "pygments_lexer": "ipython3",
   "version": "3.11.2"
  }
 },
 "nbformat": 4,
 "nbformat_minor": 5
}
